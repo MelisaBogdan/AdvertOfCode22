{
  "nbformat": 4,
  "nbformat_minor": 0,
  "metadata": {
    "colab": {
      "provenance": []
    },
    "kernelspec": {
      "name": "python3",
      "display_name": "Python 3"
    },
    "language_info": {
      "name": "python"
    }
  },
  "cells": [
    {
      "cell_type": "markdown",
      "source": [
        "DAY 1"
      ],
      "metadata": {
        "id": "ma11GjjQub_d"
      }
    },
    {
      "cell_type": "code",
      "source": [
        "from google.colab import files\n",
        "import numpy as np"
      ],
      "metadata": {
        "id": "4DGKKrvzvV1s"
      },
      "execution_count": null,
      "outputs": []
    },
    {
      "cell_type": "code",
      "source": [
        "input1 = open(\"input1.txt\", \"r\")\n",
        "lines = list(input1.read().strip().split('\\n\\n'))"
      ],
      "metadata": {
        "id": "Il-WQqnVwvRq"
      },
      "execution_count": null,
      "outputs": []
    },
    {
      "cell_type": "code",
      "source": [
        "lines_new=list()\n",
        "for l in lines:\n",
        "  lines_new.append(sum(list(map(int, l.split('\\n')))))\n",
        "\n",
        "print(\"Top elf carries: \", max(lines_new))\n",
        "print(\"Top 3 elves carry: \", sum(sorted(lines_new,reverse=True)[:3]))"
      ],
      "metadata": {
        "colab": {
          "base_uri": "https://localhost:8080/"
        },
        "id": "nQnXjRe3xVry",
        "outputId": "93319d98-8f66-42c3-f8b8-00f9fb116be9"
      },
      "execution_count": null,
      "outputs": [
        {
          "output_type": "stream",
          "name": "stdout",
          "text": [
            "Top elf carries:  72017\n",
            "Top 3 elves carry:  212520\n"
          ]
        }
      ]
    }
  ]
}